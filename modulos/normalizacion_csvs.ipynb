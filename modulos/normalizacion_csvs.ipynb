{
 "cells": [
  {
   "cell_type": "code",
   "execution_count": 1,
   "metadata": {},
   "outputs": [],
   "source": [
    "import pandas as pd\n",
    "import geopandas as gpd\n",
    "import numpy as np\n",
    "\n",
    "pd.set_option('display.max_columns', None)"
   ]
  },
  {
   "cell_type": "code",
   "execution_count": 2,
   "metadata": {},
   "outputs": [],
   "source": [
    "ciclovias_geo = '../data bicicletas/referencia_geografica_ciclovias_WGS84.geojson'\n",
    "puntos_censos_anuales = '../data bicicletas/puntos-censos-anuales.csv'\n",
    "puntos_censos_mensuales = '../data bicicletas/puntos-censos-mensuales.csv'\n",
    "volumen_ciclista_anual = '../data bicicletas/volumen-ciclistas-anuales.csv'\n",
    "volumen_ciclista_mensual = '../data bicicletas/volumen-ciclistas-mensuales.csv'"
   ]
  },
  {
   "cell_type": "markdown",
   "metadata": {},
   "source": [
    "### Normalizamos CSVs para luego exportar antes de cargar a SQL server"
   ]
  },
  {
   "cell_type": "code",
   "execution_count": 3,
   "metadata": {},
   "outputs": [],
   "source": [
    "df_ciclovias = gpd.read_file(ciclovias_geo)\n",
    "df_puntos_censos_anuales = pd.read_csv(puntos_censos_anuales)\n",
    "df_puntos_censos_mensuales = pd.read_csv(puntos_censos_mensuales)\n",
    "df_volumen_ciclista_anual = pd.read_csv(volumen_ciclista_anual)\n",
    "df_volumen_ciclista_mensual = pd.read_csv(volumen_ciclista_mensual)"
   ]
  },
  {
   "cell_type": "markdown",
   "metadata": {},
   "source": [
    "ciclovias"
   ]
  },
  {
   "cell_type": "code",
   "execution_count": 11,
   "metadata": {},
   "outputs": [
    {
     "name": "stderr",
     "output_type": "stream",
     "text": [
      "C:\\Users\\ismael\\AppData\\Local\\Temp\\ipykernel_13260\\3440588941.py:3: FutureWarning: The default value of regex will change from True to False in a future version.\n",
      "  ciclovias_normalizada['anio_construccion'] = ciclovias_normalizada['anio_construccion'].str.replace(r'\\D', '').replace('',np.nan)\n"
     ]
    },
    {
     "name": "stdout",
     "output_type": "stream",
     "text": [
      "<class 'geopandas.geodataframe.GeoDataFrame'>\n",
      "RangeIndex: 3081 entries, 0 to 3080\n",
      "Data columns (total 28 columns):\n",
      " #   Column             Non-Null Count  Dtype   \n",
      "---  ------             --------------  -----   \n",
      " 0   id                 3081 non-null   int64   \n",
      " 1   codigo             3081 non-null   int64   \n",
      " 2   nomoficial         3081 non-null   object  \n",
      " 3   alt_izqini         3081 non-null   int64   \n",
      " 4   alt_izqfin         3081 non-null   int64   \n",
      " 5   alt_derini         3081 non-null   int64   \n",
      " 6   alt_derfin         3081 non-null   int64   \n",
      " 7   nomanter           1363 non-null   object  \n",
      " 8   nom_mapa           3079 non-null   object  \n",
      " 9   tipo_c             3081 non-null   object  \n",
      " 10  long               3081 non-null   float64 \n",
      " 11  sentido            3081 non-null   object  \n",
      " 12  cod_sent           3081 non-null   int64   \n",
      " 13  observa            631 non-null    object  \n",
      " 14  bicisenda          3081 non-null   object  \n",
      " 15  lado_ciclo         950 non-null    object  \n",
      " 16  recorrid_x         178 non-null    object  \n",
      " 17  anio_construccion  2026 non-null   object  \n",
      " 18  tooltip_bi         3081 non-null   object  \n",
      " 19  red_jerarq         3081 non-null   object  \n",
      " 20  red_tp             144 non-null    object  \n",
      " 21  COMUNA             3081 non-null   int64   \n",
      " 22  COM_PAR            3081 non-null   int64   \n",
      " 23  COM_IMPAR          3081 non-null   int64   \n",
      " 24  BARRIO             2845 non-null   object  \n",
      " 25  BARRIO_PAR         3062 non-null   object  \n",
      " 26  BARRIO_IMP         3062 non-null   object  \n",
      " 27  geometry           3081 non-null   geometry\n",
      "dtypes: float64(1), geometry(1), int64(10), object(16)\n",
      "memory usage: 674.1+ KB\n"
     ]
    }
   ],
   "source": [
    "ciclovias_normalizada = df_ciclovias\n",
    "ciclovias_normalizada.rename(columns={'ciclo_obse': 'anio_construccion'}, inplace=True)\n",
    "ciclovias_normalizada['anio_construccion'] = ciclovias_normalizada['anio_construccion'].str.replace(r'\\D', '').replace('',np.nan)\n",
    "\n",
    "for x in ciclovias_normalizada['anio_construccion']:\n",
    "    if len(str(x)) != 4:\n",
    "        ciclovias_normalizada['anio_construccion'].replace(x, np.nan, inplace=True)\n",
    "\n",
    "# ciclovias_normalizada['anio_construccion'] = pd.to_datetime(ciclovias_normalizada['anio_construccion'], format='%Y', errors='coerce')\n",
    "# ciclovias_normalizada['anio_construccion'].replace({np.nan: None}, inplace=True)\n",
    "# ciclovias_normalizada['anio_construccion'] = pd.DatetimeIndex(ciclovias_normalizada['anio_construccion']).year\n",
    "ciclovias_normalizada.info()\n"
   ]
  },
  {
   "cell_type": "markdown",
   "metadata": {},
   "source": [
    "Punto censales anules y mensuales"
   ]
  },
  {
   "cell_type": "code",
   "execution_count": 17,
   "metadata": {},
   "outputs": [
    {
     "data": {
      "text/html": [
       "<div>\n",
       "<style scoped>\n",
       "    .dataframe tbody tr th:only-of-type {\n",
       "        vertical-align: middle;\n",
       "    }\n",
       "\n",
       "    .dataframe tbody tr th {\n",
       "        vertical-align: top;\n",
       "    }\n",
       "\n",
       "    .dataframe thead th {\n",
       "        text-align: right;\n",
       "    }\n",
       "</style>\n",
       "<table border=\"1\" class=\"dataframe\">\n",
       "  <thead>\n",
       "    <tr style=\"text-align: right;\">\n",
       "      <th></th>\n",
       "      <th>X</th>\n",
       "      <th>Y</th>\n",
       "      <th>RECORRIDO</th>\n",
       "      <th>CENTROIDE</th>\n",
       "      <th>CRUCE</th>\n",
       "      <th>area</th>\n",
       "      <th>geometry</th>\n",
       "    </tr>\n",
       "  </thead>\n",
       "  <tbody>\n",
       "    <tr>\n",
       "      <th>0</th>\n",
       "      <td>-58.481712</td>\n",
       "      <td>-34.544106</td>\n",
       "      <td>R001</td>\n",
       "      <td>600.0</td>\n",
       "      <td>DEHEZA@PINTO</td>\n",
       "      <td>Barrios</td>\n",
       "      <td>POINT (-58.48171 -34.54411)</td>\n",
       "    </tr>\n",
       "  </tbody>\n",
       "</table>\n",
       "</div>"
      ],
      "text/plain": [
       "           X          Y RECORRIDO  CENTROIDE         CRUCE     area  \\\n",
       "0 -58.481712 -34.544106      R001      600.0  DEHEZA@PINTO  Barrios   \n",
       "\n",
       "                      geometry  \n",
       "0  POINT (-58.48171 -34.54411)  "
      ]
     },
     "execution_count": 17,
     "metadata": {},
     "output_type": "execute_result"
    }
   ],
   "source": [
    "gdf_puntos_censos_anuales = gpd.GeoDataFrame(df_puntos_censos_anuales, geometry=gpd.points_from_xy(df_puntos_censos_anuales.X, df_puntos_censos_anuales.Y))\n",
    "gdf_puntos_censos_anuales.rename(columns={'ÃREA': 'area'}, inplace=True)\n",
    "gdf_puntos_censos_anuales.head(1)"
   ]
  },
  {
   "cell_type": "code",
   "execution_count": 18,
   "metadata": {},
   "outputs": [
    {
     "data": {
      "text/plain": [
       "Series([], Name: CENTROIDE, dtype: float64)"
      ]
     },
     "execution_count": 18,
     "metadata": {},
     "output_type": "execute_result"
    }
   ],
   "source": [
    "duplicates_df = gdf_puntos_censos_anuales['CENTROIDE']\n",
    "duplicate = duplicates_df[duplicates_df.duplicated()]\n",
    "duplicate"
   ]
  },
  {
   "cell_type": "code",
   "execution_count": 34,
   "metadata": {},
   "outputs": [
    {
     "data": {
      "text/html": [
       "<div>\n",
       "<style scoped>\n",
       "    .dataframe tbody tr th:only-of-type {\n",
       "        vertical-align: middle;\n",
       "    }\n",
       "\n",
       "    .dataframe tbody tr th {\n",
       "        vertical-align: top;\n",
       "    }\n",
       "\n",
       "    .dataframe thead th {\n",
       "        text-align: right;\n",
       "    }\n",
       "</style>\n",
       "<table border=\"1\" class=\"dataframe\">\n",
       "  <thead>\n",
       "    <tr style=\"text-align: right;\">\n",
       "      <th></th>\n",
       "      <th>X</th>\n",
       "      <th>Y</th>\n",
       "      <th>Status</th>\n",
       "      <th>Score</th>\n",
       "      <th>PB</th>\n",
       "      <th>TIPO</th>\n",
       "      <th>CRUCE</th>\n",
       "      <th>geometry</th>\n",
       "    </tr>\n",
       "  </thead>\n",
       "  <tbody>\n",
       "    <tr>\n",
       "      <th>0</th>\n",
       "      <td>-58.437811</td>\n",
       "      <td>-34.593512</td>\n",
       "      <td>M</td>\n",
       "      <td>100</td>\n",
       "      <td>PB45</td>\n",
       "      <td>ARTERIAS CON CICLOVIAS</td>\n",
       "      <td>SERRANO &amp; LOYOLA</td>\n",
       "      <td>POINT (-58.43781 -34.59351)</td>\n",
       "    </tr>\n",
       "  </tbody>\n",
       "</table>\n",
       "</div>"
      ],
      "text/plain": [
       "           X          Y Status  Score    PB                    TIPO  \\\n",
       "0 -58.437811 -34.593512      M    100  PB45  ARTERIAS CON CICLOVIAS   \n",
       "\n",
       "              CRUCE                     geometry  \n",
       "0  SERRANO & LOYOLA  POINT (-58.43781 -34.59351)  "
      ]
     },
     "execution_count": 34,
     "metadata": {},
     "output_type": "execute_result"
    }
   ],
   "source": [
    "gdf_puntos_censos_mensuales = gpd.GeoDataFrame(df_puntos_censos_mensuales, geometry=gpd.points_from_xy(df_puntos_censos_mensuales.X, df_puntos_censos_mensuales.Y))\n",
    "gdf_puntos_censos_mensuales.rename(columns={'ÃREA': 'area'}, inplace=True)\n",
    "gdf_puntos_censos_mensuales.drop(columns=['x_coo', 'y_coo'], inplace=True)\n",
    "gdf_puntos_censos_mensuales.head(1)"
   ]
  },
  {
   "cell_type": "markdown",
   "metadata": {},
   "source": [
    "Volumenes de ciclistas"
   ]
  },
  {
   "cell_type": "code",
   "execution_count": 25,
   "metadata": {},
   "outputs": [
    {
     "name": "stdout",
     "output_type": "stream",
     "text": [
      "0\n",
      "<class 'pandas.core.frame.DataFrame'>\n",
      "RangeIndex: 9004 entries, 0 to 9003\n",
      "Data columns (total 6 columns):\n",
      " #   Column              Non-Null Count  Dtype \n",
      "---  ------              --------------  ----- \n",
      " 0   centroide           9004 non-null   int64 \n",
      " 1   cruce               9004 non-null   object\n",
      " 2   año                 9004 non-null   object\n",
      " 3   turno               9004 non-null   object\n",
      " 4   cantidad_ciclistas  9004 non-null   int64 \n",
      " 5   tipo_relevamiento   9004 non-null   object\n",
      "dtypes: int64(2), object(4)\n",
      "memory usage: 422.2+ KB\n"
     ]
    }
   ],
   "source": [
    "volumen_ciclista_anual_normalizado = df_volumen_ciclista_anual\n",
    "volumen_ciclista_anual_normalizado['año']= volumen_ciclista_anual_normalizado['año'].apply(str)\n",
    "nan = volumen_ciclista_anual_normalizado['año'].isnull().sum()\n",
    "print(nan)\n",
    "volumen_ciclista_anual_normalizado.info()\n",
    "volumen_ciclista_anual_normalizado.to_csv('../data bicicletas/normalizada/volumen_ciclistas_anuales_normalizada.csv', index=False, )"
   ]
  },
  {
   "cell_type": "code",
   "execution_count": 36,
   "metadata": {},
   "outputs": [
    {
     "name": "stdout",
     "output_type": "stream",
     "text": [
      "<class 'pandas.core.frame.DataFrame'>\n",
      "RangeIndex: 2049 entries, 0 to 2048\n",
      "Data columns (total 5 columns):\n",
      " #   Column              Non-Null Count  Dtype \n",
      "---  ------              --------------  ----- \n",
      " 0   año                 2049 non-null   int64 \n",
      " 1   mes                 2049 non-null   object\n",
      " 2   punto_cruce         2049 non-null   object\n",
      " 3   punto_referencia    2049 non-null   object\n",
      " 4   cantidad_ciclistas  2049 non-null   int64 \n",
      "dtypes: int64(2), object(3)\n",
      "memory usage: 80.2+ KB\n"
     ]
    }
   ],
   "source": [
    "volumen_ciclista_mensual_normalizado = df_volumen_ciclista_mensual\n",
    "\n",
    "\n",
    "volumen_ciclista_mensual_normalizado.info()"
   ]
  },
  {
   "cell_type": "markdown",
   "metadata": {},
   "source": [
    "Exportamos la normalizacion a CSVs"
   ]
  },
  {
   "cell_type": "code",
   "execution_count": 45,
   "metadata": {},
   "outputs": [],
   "source": [
    "ciclovias_normalizada.to_file('../data bicicletas/normalizada/referencia_geografica_ciclovias_WGS84_normalizada.geojson', driver='GeoJSON')\n",
    "gdf_puntos_censos_anuales.to_file('../data bicicletas/normalizada/puntos_censos_anuales_normalizada.geojson', driver='GeoJSON')\n",
    "gdf_puntos_censos_mensuales.to_file('../data bicicletas/normalizada/puntos_censos_mensuales_normalizada.geojson', driver='GeoJSON')\n",
    "volumen_ciclista_anual_normalizado.to_csv('../data bicicletas/normalizada/volumen_ciclistas_anuales_normalizada.csv', index=False)\n",
    "volumen_ciclista_mensual_normalizado.to_csv('../data bicicletas/normalizada/volumen_ciclistas_mensuales_normalizada.csv', index=False)\n"
   ]
  },
  {
   "cell_type": "code",
   "execution_count": 28,
   "metadata": {},
   "outputs": [
    {
     "name": "stdout",
     "output_type": "stream",
     "text": [
      "<class 'pandas.core.frame.DataFrame'>\n",
      "RangeIndex: 2049 entries, 0 to 2048\n",
      "Data columns (total 5 columns):\n",
      " #   Column              Non-Null Count  Dtype \n",
      "---  ------              --------------  ----- \n",
      " 0   año                 2049 non-null   object\n",
      " 1   mes                 2049 non-null   object\n",
      " 2   punto_cruce         2049 non-null   object\n",
      " 3   punto_referencia    2049 non-null   object\n",
      " 4   cantidad_ciclistas  2049 non-null   int64 \n",
      "dtypes: int64(1), object(4)\n",
      "memory usage: 80.2+ KB\n"
     ]
    }
   ],
   "source": [
    "df = pd.read_csv('../data bicicletas/normalizada/volumen_ciclistas_mensuales_normalizada.csv', dtype={'año': str, 'mes': str})\n",
    "df.info()"
   ]
  }
 ],
 "metadata": {
  "kernelspec": {
   "display_name": "Python 3.10.4 ('venv': venv)",
   "language": "python",
   "name": "python3"
  },
  "language_info": {
   "codemirror_mode": {
    "name": "ipython",
    "version": 3
   },
   "file_extension": ".py",
   "mimetype": "text/x-python",
   "name": "python",
   "nbconvert_exporter": "python",
   "pygments_lexer": "ipython3",
   "version": "3.10.4"
  },
  "orig_nbformat": 4,
  "vscode": {
   "interpreter": {
    "hash": "e05330e6ed5fd10a29bed1b004a228d26504c7c515926912333f7a96086f4e9c"
   }
  }
 },
 "nbformat": 4,
 "nbformat_minor": 2
}
